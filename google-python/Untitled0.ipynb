{
 "metadata": {
  "name": "",
  "signature": "sha256:92100b54d0d380a1510dd6e4d92e01a2a7c86ddac79026b4816a5e4fc5e8d39f"
 },
 "nbformat": 3,
 "nbformat_minor": 0,
 "worksheets": []
}