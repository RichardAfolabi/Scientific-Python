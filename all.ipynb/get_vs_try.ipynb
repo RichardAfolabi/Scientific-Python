{
 "metadata": {
  "canopy_exercise": {
   "__metadata_version__": 1
  },
  "name": "get_vs_try.ipynb"
 },
 "nbformat": 3,
 "nbformat_minor": 0,
 "worksheets": [
  {
   "cells": [
    {
     "cell_type": "markdown",
     "metadata": {
      "canopy_exercise": {
       "cell_type": "question"
      }
     },
     "source": [
      "Get vs. KeyError Exercise\n",
      "=========================\n",
      "\n",
      "When you are using dictionaries, there are (at least) three ways that you can deal with missing keys:\n",
      "\n",
      "* you can use the `get()` method and supply a default value to use if the key is missing\n",
      "* you can put a `try: ... except KeyError: ...` around your dictionary access\n",
      "* if you should never have a missing key in a correctly functioning script, you can ignore the possibility, and let the exception stop your code from running.\n",
      "\n",
      "Which is the best strategy depends on your use case.  In this exercise, we'll investigate some of the advantages and disadvantages of each approach.\n",
      "\n",
      "Question 1\n",
      "----------\n",
      "\n",
      "Write a function `get_a()` that takes a dictionary and returns the value associated with the key `\"a\"` using the `get()` dictionary method, returning `1` if there is no value associated with the key:\n",
      "\n",
      "    def get_a(d):\n",
      "        ..."
     ]
    },
    {
     "cell_type": "code",
     "collapsed": true,
     "input": [
      "# your code goes here"
     ],
     "language": "python",
     "metadata": {
      "canopy_exercise": {
       "cell_type": "student_solution"
      }
     },
     "outputs": []
    },
    {
     "cell_type": "markdown",
     "metadata": {
      "canopy_exercise": {
       "cell_type": "solution_button"
      }
     },
     "source": [
      "<div class=\"btn-group\"><button class=\"btn\" onclick=\"IPython.canopy_exercise.toggle_solution('1')\">Solution</button></div>"
     ]
    },
    {
     "cell_type": "code",
     "collapsed": false,
     "input": [
      "def get_a(d):\n",
      "    return d.get(\"a\", 1)"
     ],
     "language": "python",
     "metadata": {
      "canopy_exercise": {
       "cell_type": "solution_view",
       "solution_number": "1"
      }
     },
     "outputs": []
    },
    {
     "cell_type": "markdown",
     "metadata": {
      "canopy_exercise": {
       "cell_type": "question"
      }
     },
     "source": [
      "Question 2\n",
      "----------\n",
      "\n",
      "Write a function `try_a()` which does the same as `get_a()`, but using a `try: ... except KeyError: ...` instead.\n",
      "\n",
      "    def try_a(d):\n",
      "        ...\n"
     ]
    },
    {
     "cell_type": "code",
     "collapsed": true,
     "input": [
      "# your code goes here"
     ],
     "language": "python",
     "metadata": {
      "canopy_exercise": {
       "cell_type": "student_solution"
      }
     },
     "outputs": []
    },
    {
     "cell_type": "markdown",
     "metadata": {
      "canopy_exercise": {
       "cell_type": "solution_button"
      }
     },
     "source": [
      "<div class=\"btn-group\"><button class=\"btn\" onclick=\"IPython.canopy_exercise.toggle_solution('2')\">Solution</button></div>"
     ]
    },
    {
     "cell_type": "code",
     "collapsed": false,
     "input": [
      "def try_a(d):\n",
      "    try:\n",
      "        return d[\"a\"]\n",
      "    except KeyError:\n",
      "        return 1"
     ],
     "language": "python",
     "metadata": {
      "canopy_exercise": {
       "cell_type": "solution_view",
       "solution_number": "2"
      }
     },
     "outputs": []
    },
    {
     "cell_type": "markdown",
     "metadata": {
      "canopy_exercise": {
       "cell_type": "question"
      }
     },
     "source": [
      "Question 3\n",
      "----------\n",
      "\n",
      "Write a function `lookup_a()` which is the same as the previous two functions, but doesn't handle the case of a missing value at all.\n",
      "\n",
      "    def lookup_a(d):\n",
      "        ..."
     ]
    },
    {
     "cell_type": "code",
     "collapsed": true,
     "input": [
      "# your code goes here"
     ],
     "language": "python",
     "metadata": {
      "canopy_exercise": {
       "cell_type": "student_solution"
      }
     },
     "outputs": []
    },
    {
     "cell_type": "markdown",
     "metadata": {
      "canopy_exercise": {
       "cell_type": "solution_button"
      }
     },
     "source": [
      "<div class=\"btn-group\"><button class=\"btn\" onclick=\"IPython.canopy_exercise.toggle_solution('3')\">Solution</button></div>"
     ]
    },
    {
     "cell_type": "code",
     "collapsed": false,
     "input": [
      "def lookup_a(d):\n",
      "    return d[\"a\"]"
     ],
     "language": "python",
     "metadata": {
      "canopy_exercise": {
       "cell_type": "solution_view",
       "solution_number": "3"
      }
     },
     "outputs": []
    },
    {
     "cell_type": "markdown",
     "metadata": {
      "canopy_exercise": {
       "cell_type": "question"
      }
     },
     "source": [
      "Question 4\n",
      "----------\n",
      "\n",
      "Use IPython's `%timeit` magic to see how long each function takes on the dictionary"
     ]
    },
    {
     "cell_type": "code",
     "collapsed": false,
     "input": [
      "d = {\"a\": 2}"
     ],
     "language": "python",
     "metadata": {
      "canopy_exercise": {
       "cell_type": "starting code"
      }
     },
     "outputs": []
    },
    {
     "cell_type": "markdown",
     "metadata": {
      "canopy_exercise": {
       "cell_type": "question"
      }
     },
     "source": [
      "Time for `get_a()`:"
     ]
    },
    {
     "cell_type": "code",
     "collapsed": true,
     "input": [
      "# your code goes here"
     ],
     "language": "python",
     "metadata": {
      "canopy_exercise": {
       "cell_type": "student_solution"
      }
     },
     "outputs": []
    },
    {
     "cell_type": "markdown",
     "metadata": {
      "canopy_exercise": {
       "cell_type": "solution_button"
      }
     },
     "source": [
      "<div class=\"btn-group\"><button class=\"btn\" onclick=\"IPython.canopy_exercise.toggle_solution('6')\">Solution</button></div>"
     ]
    },
    {
     "cell_type": "code",
     "collapsed": false,
     "input": [
      "%timeit get_a(d)"
     ],
     "language": "python",
     "metadata": {
      "canopy_exercise": {
       "cell_type": "solution_view",
       "solution_number": "6"
      }
     },
     "outputs": []
    },
    {
     "cell_type": "markdown",
     "metadata": {
      "canopy_exercise": {
       "cell_type": "question"
      }
     },
     "source": [
      "Time for `try_a()`:"
     ]
    },
    {
     "cell_type": "code",
     "collapsed": true,
     "input": [
      "# your code goes here"
     ],
     "language": "python",
     "metadata": {
      "canopy_exercise": {
       "cell_type": "student_solution"
      }
     },
     "outputs": []
    },
    {
     "cell_type": "markdown",
     "metadata": {
      "canopy_exercise": {
       "cell_type": "solution_button"
      }
     },
     "source": [
      "<div class=\"btn-group\"><button class=\"btn\" onclick=\"IPython.canopy_exercise.toggle_solution('7')\">Solution</button></div>"
     ]
    },
    {
     "cell_type": "code",
     "collapsed": false,
     "input": [
      "%timeit try_a(d)"
     ],
     "language": "python",
     "metadata": {
      "canopy_exercise": {
       "cell_type": "solution_view",
       "solution_number": "7"
      }
     },
     "outputs": []
    },
    {
     "cell_type": "markdown",
     "metadata": {
      "canopy_exercise": {
       "cell_type": "question"
      }
     },
     "source": [
      "Time for `lookup_a()`:"
     ]
    },
    {
     "cell_type": "code",
     "collapsed": true,
     "input": [
      "# your code goes here"
     ],
     "language": "python",
     "metadata": {
      "canopy_exercise": {
       "cell_type": "student_solution"
      }
     },
     "outputs": []
    },
    {
     "cell_type": "markdown",
     "metadata": {
      "canopy_exercise": {
       "cell_type": "solution_button"
      }
     },
     "source": [
      "<div class=\"btn-group\"><button class=\"btn\" onclick=\"IPython.canopy_exercise.toggle_solution('8')\">Solution</button></div>"
     ]
    },
    {
     "cell_type": "code",
     "collapsed": false,
     "input": [
      "%timeit lookup_a(d)"
     ],
     "language": "python",
     "metadata": {
      "canopy_exercise": {
       "cell_type": "solution_view",
       "solution_number": "8"
      }
     },
     "outputs": []
    },
    {
     "cell_type": "markdown",
     "metadata": {
      "canopy_exercise": {
       "cell_type": "question"
      }
     },
     "source": [
      "Question 5\n",
      "----------\n",
      "\n",
      "Repeat question 4 for `get_a()` and `try_a()` with the dictionary:"
     ]
    },
    {
     "cell_type": "code",
     "collapsed": false,
     "input": [
      "empty = {}"
     ],
     "language": "python",
     "metadata": {
      "canopy_exercise": {
       "cell_type": "starting code"
      }
     },
     "outputs": []
    },
    {
     "cell_type": "markdown",
     "metadata": {
      "canopy_exercise": {
       "cell_type": "question"
      }
     },
     "source": [
      "Time for `get_a()`:"
     ]
    },
    {
     "cell_type": "code",
     "collapsed": true,
     "input": [
      "# your code goes here"
     ],
     "language": "python",
     "metadata": {
      "canopy_exercise": {
       "cell_type": "student_solution"
      }
     },
     "outputs": []
    },
    {
     "cell_type": "markdown",
     "metadata": {
      "canopy_exercise": {
       "cell_type": "solution_button"
      }
     },
     "source": [
      "<div class=\"btn-group\"><button class=\"btn\" onclick=\"IPython.canopy_exercise.toggle_solution('11')\">Solution</button></div>"
     ]
    },
    {
     "cell_type": "code",
     "collapsed": false,
     "input": [
      "%timeit get_a(empty)"
     ],
     "language": "python",
     "metadata": {
      "canopy_exercise": {
       "cell_type": "solution_view",
       "solution_number": "11"
      }
     },
     "outputs": []
    },
    {
     "cell_type": "markdown",
     "metadata": {
      "canopy_exercise": {
       "cell_type": "question"
      }
     },
     "source": [
      "Time for `try_a()`:"
     ]
    },
    {
     "cell_type": "code",
     "collapsed": true,
     "input": [
      "# your code goes here"
     ],
     "language": "python",
     "metadata": {
      "canopy_exercise": {
       "cell_type": "student_solution"
      }
     },
     "outputs": []
    },
    {
     "cell_type": "markdown",
     "metadata": {
      "canopy_exercise": {
       "cell_type": "solution_button"
      }
     },
     "source": [
      "<div class=\"btn-group\"><button class=\"btn\" onclick=\"IPython.canopy_exercise.toggle_solution('12')\">Solution</button></div>"
     ]
    },
    {
     "cell_type": "code",
     "collapsed": false,
     "input": [
      "%timeit try_a(empty)"
     ],
     "language": "python",
     "metadata": {
      "canopy_exercise": {
       "cell_type": "solution_view",
       "solution_number": "12"
      }
     },
     "outputs": []
    },
    {
     "cell_type": "markdown",
     "metadata": {
      "canopy_exercise": {
       "cell_type": "question"
      }
     },
     "source": [
      "Based on the results of questions 4 and 5, if speed is critical to your code:\n",
      "\n",
      "* what is the best approach to use when you expect keys to be missing often?\n",
      "* what is the best approach to use when you expect keys to be missing infrequently?\n",
      "* what is the best approach to use when keys should never be missing?\n",
      "\n",
      "If speed is not an issue, but keys may be missing, which approach would you prefer?\n",
      "\n",
      "Bonus\n",
      "-----\n",
      "\n",
      "In the `collections` module there is a class called `defaultdict` that provides another way of providing for missing keys:"
     ]
    },
    {
     "cell_type": "code",
     "collapsed": false,
     "input": [
      "from collections import defaultdict"
     ],
     "language": "python",
     "metadata": {
      "canopy_exercise": {
       "cell_type": "starting code"
      }
     },
     "outputs": []
    },
    {
     "cell_type": "markdown",
     "metadata": {
      "canopy_exercise": {
       "cell_type": "question"
      }
     },
     "source": [
      "A `defaultdict` expects an argument which is a function which returns the default value for a missing key.  For example:"
     ]
    },
    {
     "cell_type": "code",
     "collapsed": false,
     "input": [
      "def default_1():\n",
      "    return 1\n",
      "\n",
      "example_defaultdict = defaultdict(default_1, a=2)\n",
      "\n",
      "print example_defaultdict[\"a\"]\n",
      "print example_defaultdict[\"b\"]"
     ],
     "language": "python",
     "metadata": {
      "canopy_exercise": {
       "cell_type": "starting code"
      }
     },
     "outputs": []
    },
    {
     "cell_type": "markdown",
     "metadata": {
      "canopy_exercise": {
       "cell_type": "question"
      }
     },
     "source": [
      "Use IPython's `%timeit` with `lookup_a()` and this `example_defaultdict`:"
     ]
    },
    {
     "cell_type": "code",
     "collapsed": true,
     "input": [
      "# your code goes here"
     ],
     "language": "python",
     "metadata": {
      "canopy_exercise": {
       "cell_type": "student_solution"
      }
     },
     "outputs": []
    },
    {
     "cell_type": "markdown",
     "metadata": {
      "canopy_exercise": {
       "cell_type": "solution_button"
      }
     },
     "source": [
      "<div class=\"btn-group\"><button class=\"btn\" onclick=\"IPython.canopy_exercise.toggle_solution('17')\">Solution</button></div>"
     ]
    },
    {
     "cell_type": "code",
     "collapsed": false,
     "input": [
      "%timeit lookup_a(example_defaultdict)"
     ],
     "language": "python",
     "metadata": {
      "canopy_exercise": {
       "cell_type": "solution_view",
       "solution_number": "17"
      }
     },
     "outputs": []
    },
    {
     "cell_type": "markdown",
     "metadata": {
      "canopy_exercise": {
       "cell_type": "question"
      }
     },
     "source": [
      "Create an empty defaultdict with the same default function:"
     ]
    },
    {
     "cell_type": "code",
     "collapsed": true,
     "input": [
      "# your code goes here"
     ],
     "language": "python",
     "metadata": {
      "canopy_exercise": {
       "cell_type": "student_solution"
      }
     },
     "outputs": []
    },
    {
     "cell_type": "markdown",
     "metadata": {
      "canopy_exercise": {
       "cell_type": "solution_button"
      }
     },
     "source": [
      "<div class=\"btn-group\"><button class=\"btn\" onclick=\"IPython.canopy_exercise.toggle_solution('18')\">Solution</button></div>"
     ]
    },
    {
     "cell_type": "code",
     "collapsed": false,
     "input": [
      "empty_defaultdict = defaultdict(default_1)"
     ],
     "language": "python",
     "metadata": {
      "canopy_exercise": {
       "cell_type": "solution_view",
       "solution_number": "18"
      }
     },
     "outputs": []
    },
    {
     "cell_type": "markdown",
     "metadata": {
      "canopy_exercise": {
       "cell_type": "question"
      }
     },
     "source": [
      "Repeat the timing with this:"
     ]
    },
    {
     "cell_type": "code",
     "collapsed": true,
     "input": [
      "# your code goes here"
     ],
     "language": "python",
     "metadata": {
      "canopy_exercise": {
       "cell_type": "student_solution"
      }
     },
     "outputs": []
    },
    {
     "cell_type": "markdown",
     "metadata": {
      "canopy_exercise": {
       "cell_type": "solution_button"
      }
     },
     "source": [
      "<div class=\"btn-group\"><button class=\"btn\" onclick=\"IPython.canopy_exercise.toggle_solution('19')\">Solution</button></div>"
     ]
    },
    {
     "cell_type": "code",
     "collapsed": false,
     "input": [
      "%timeit lookup_a(empty_defaultdict)"
     ],
     "language": "python",
     "metadata": {
      "canopy_exercise": {
       "cell_type": "solution_view",
       "solution_number": "19"
      }
     },
     "outputs": []
    },
    {
     "cell_type": "markdown",
     "metadata": {
      "canopy_exercise": {
       "cell_type": "question"
      }
     },
     "source": [
      "Finally, if you do not supply a default value function, the `defaultdict` will behave similarly to a regular dictionary:"
     ]
    },
    {
     "cell_type": "code",
     "collapsed": false,
     "input": [
      "nodefault_defaultdict = defaultdict(a=2)\n",
      "\n",
      "print nodefault_defaultdict[\"a\"]"
     ],
     "language": "python",
     "metadata": {
      "canopy_exercise": {
       "cell_type": "starting code"
      }
     },
     "outputs": []
    },
    {
     "cell_type": "code",
     "collapsed": false,
     "input": [
      "print nodefault_defaultdict[\"b\"]"
     ],
     "language": "python",
     "metadata": {
      "canopy_exercise": {
       "cell_type": "starting code"
      }
     },
     "outputs": []
    },
    {
     "cell_type": "markdown",
     "metadata": {
      "canopy_exercise": {
       "cell_type": "question"
      }
     },
     "source": [
      "Repeat the timing with `lookup_a` and this `defaultdict`."
     ]
    },
    {
     "cell_type": "code",
     "collapsed": true,
     "input": [
      "# your code goes here"
     ],
     "language": "python",
     "metadata": {
      "canopy_exercise": {
       "cell_type": "student_solution"
      }
     },
     "outputs": []
    },
    {
     "cell_type": "markdown",
     "metadata": {
      "canopy_exercise": {
       "cell_type": "solution_button"
      }
     },
     "source": [
      "<div class=\"btn-group\"><button class=\"btn\" onclick=\"IPython.canopy_exercise.toggle_solution('23')\">Solution</button></div>"
     ]
    },
    {
     "cell_type": "code",
     "collapsed": false,
     "input": [
      "%timeit lookup_a(nodefault_defaultdict)"
     ],
     "language": "python",
     "metadata": {
      "canopy_exercise": {
       "cell_type": "solution_view",
       "solution_number": "23"
      }
     },
     "outputs": []
    },
    {
     "cell_type": "markdown",
     "metadata": {
      "canopy_exercise": {
       "cell_type": "question"
      }
     },
     "source": [
      "Does this change your preferred approach in any of the scenarios mentioned in Question 5?\n",
      "\n",
      "(Keep in mind the value of readability, particularly if speed is not the most important thing, and perhaps even if it is!)"
     ]
    }
   ],
   "metadata": {}
  }
 ]
}