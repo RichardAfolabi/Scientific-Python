{
 "worksheets": [
  {
   "cells": [
    {
     "cell_type": "markdown",
     "metadata": {},
     "source": [
      "Caesar Cypher\n",
      "=============\n",
      "\n",
      "A [Caesar cypher](http://en.wikipedia.org/wiki/Caesar_cipher), also called shift-cypher is one of the simplest (and therefore most easily cracked) encryption methods. It is known to have been used by the Romans. It is a simple substitution cypher, where each letter of a document is replaced by the letter shifted some fixed distance down the alphabet, wrapping around when you reach Z.\n",
      "\n",
      "So for example if the shift is +3, then:\n",
      "\n",
      "    A -> D\n",
      "    B -> E\n",
      "    C -> F\n",
      "    ...\n",
      "    X -> A\n",
      "    Y -> B\n",
      "    Z -> C\n",
      "\n",
      "Similarly to modern encryption techniques, to encode or decode using this technique, the Caesar cypher requires the encoder and the decoder to share a \"key\", in this case a simple integer from 0 to 25. The symmetric version, with a shift of 13 letters, is often refered to as ROT-13 and doesn't even require any key. In this exercise you will implement a Caesar cypher and use it to encode and decode messages.\n",
      "\n",
      "Note: At question 2, this exercise makes use of the string's `translate` method which we haven't seen in the lecture. But, you can learn by yourself how it works by typing `\"test\".translate?` in a notebook cell. If that's not enough, the hint of that question is also here to help. Good luck. "
     ]
    },
    {
     "cell_type": "markdown",
     "metadata": {},
     "source": [
      "Question 1\n",
      "----------\n",
      "\n",
      "Using the letters variable below, slicing and string concatenation, build a string of all letters in the alphabet with the upper case letters shifted by 10. This shifted alphabet will be used below to build a translation table."
     ]
    },
    {
     "cell_type": "code",
     "metadata": {},
     "outputs": [
      {
       "output_type": "stream",
       "stream": "stdout",
       "text": [
        "ABCDEFGHIJKLMNOPQRSTUVWXYZ\n"
       ]
      }
     ],
     "input": [
      "letters = \"ABCDEFGHIJKLMNOPQRSTUVWXYZ\"\n",
      "\n",
      "print (letters)"
     ],
     "language": "python",
     "prompt_number": 1
    },
    {
     "cell_type": "code",
     "metadata": {},
     "outputs": [],
     "input": [
      "print (letters)"
     ],
     "language": "python"
    },
    {
     "cell_type": "markdown",
     "metadata": {},
     "source": [
      "<div class=\"btn-group\"><button class=\"btn\" onclick=\"IPython.canopy_exercise.toggle_solution('2')\">Solution</button></div>"
     ]
    },
    {
     "cell_type": "code",
     "metadata": {},
     "outputs": [],
     "input": [
      "shifted_letters = letters[10:] + letters[:10] \n",
      "print shifted_letters"
     ],
     "language": "python"
    },
    {
     "cell_type": "markdown",
     "metadata": {},
     "source": [
      "Question 2\n",
      "----------\n",
      "\n",
      "Look at the documentation for the `translate` method on strings and for the `maketrans` function from the `string` module (which we have imported for you). Use them to encode the string `\"HELLO WORLD\"` with the letters shifted by 10."
     ]
    },
    {
     "cell_type": "markdown",
     "metadata": {},
     "source": [
      "<div class=\"btn-group\"><button class=\"btn\" onclick=\"IPython.canopy_exercise.toggle_hint('4')\">Hint</button></div>"
     ]
    },
    {
     "cell_type": "markdown",
     "metadata": {},
     "source": [
      "The `maketrans` function takes 2 strings listing the letters that need translation and the letters they are translated into and returns a translation table. Make sure to reuse the result of the question 1 to build it. That table can be used by the `translate` method as its argument to translate a string. For example:\n",
      "<pre>\n",
      "table = maketrans(\"AC\", \"CA\") # This will replace A by C and C by A\n",
      "\"CLARA\".translate(table)\n",
      "</pre>\n",
      "will return `'ALCRC'`."
     ]
    },
    {
     "cell_type": "code",
     "metadata": {},
     "outputs": [],
     "input": [
      "from string import maketrans\n",
      "\n",
      "message = \"HELLO WORLD\""
     ],
     "language": "python"
    },
    {
     "cell_type": "code",
     "metadata": {},
     "outputs": [],
     "input": [
      "# your code goes here"
     ],
     "language": "python"
    },
    {
     "cell_type": "markdown",
     "metadata": {},
     "source": [
      "<div class=\"btn-group\"><button class=\"btn\" onclick=\"IPython.canopy_exercise.toggle_solution('5')\">Solution</button></div>"
     ]
    },
    {
     "cell_type": "code",
     "metadata": {},
     "outputs": [],
     "input": [
      "# Let's first build the translation table that will be needed by the translate method.\n",
      "encode_translation_table = maketrans(letters, shifted_letters)\n",
      "# And then use it to encode the message with the translate method\n",
      "encoded_message = message.translate(encode_translation_table)\n",
      "print encoded_message"
     ],
     "language": "python"
    },
    {
     "cell_type": "markdown",
     "metadata": {},
     "source": [
      "Question 3\n",
      "----------\n",
      "\n",
      "The variable `secret_message` below contains a message which has been encoded using a shift of 10. Decode it."
     ]
    },
    {
     "cell_type": "code",
     "metadata": {},
     "outputs": [],
     "input": [
      "secret_message = \"OD DE, LBEDO?\""
     ],
     "language": "python"
    },
    {
     "cell_type": "markdown",
     "metadata": {},
     "source": [
      "<div class=\"btn-group\"><button class=\"btn\" onclick=\"IPython.canopy_exercise.toggle_hint('8')\">Hint</button></div>"
     ]
    },
    {
     "cell_type": "markdown",
     "metadata": {},
     "source": [
      "You need to make a new translation table which takes `shifted_letters` back to `letters`."
     ]
    },
    {
     "cell_type": "code",
     "metadata": {},
     "outputs": [],
     "input": [
      "# your code goes here"
     ],
     "language": "python"
    },
    {
     "cell_type": "markdown",
     "metadata": {},
     "source": [
      "<div class=\"btn-group\"><button class=\"btn\" onclick=\"IPython.canopy_exercise.toggle_solution('8')\">Solution</button></div>"
     ]
    },
    {
     "cell_type": "code",
     "metadata": {},
     "outputs": [],
     "input": [
      "decoded_message = secret_message.translate(maketrans(shifted_letters, letters))\n",
      "print decoded_message"
     ],
     "language": "python"
    },
    {
     "cell_type": "markdown",
     "metadata": {},
     "source": [
      "Bonus\n",
      "-----\n",
      "\n",
      "If you know about functions, write a function `caesar_encode` that takes a message and a shift and produces the encoded message.  Make sure that you support both positive and negative shifts, as well as shifts greater than 26."
     ]
    },
    {
     "cell_type": "code",
     "metadata": {},
     "outputs": [],
     "input": [
      "# your code goes here"
     ],
     "language": "python"
    },
    {
     "cell_type": "markdown",
     "metadata": {},
     "source": [
      "<div class=\"btn-group\"><button class=\"btn\" onclick=\"IPython.canopy_exercise.toggle_solution('9')\">Solution</button></div>"
     ]
    },
    {
     "cell_type": "code",
     "metadata": {},
     "outputs": [],
     "input": [
      "def caesar_encode(message, shift):\n",
      "    \"\"\" Encode a message using a Caesar cypher with the specified shift \"\"\"\n",
      "    shift = shift % 26\n",
      "    letters = \"ABCDEFGHIJKLMNOPQRSTUVWXYZ\"\n",
      "    shifted_letters = letters[shift:] + letters[:shift]\n",
      "    encoded_message = message.translate(maketrans(letters, shifted_letters))\n",
      "    return encoded_message"
     ],
     "language": "python"
    },
    {
     "cell_type": "code",
     "metadata": {},
     "outputs": [],
     "input": [
      "# test your function\n",
      "print caesar_encode(message, 10)\n",
      "\n",
      "print caesar_encode(secret_message, -10)"
     ],
     "language": "python"
    }
   ]
  }
 ],
 "cells": [],
 "metadata": {
  "canopy_exercise": {
   "__metadata_version__": 1.0
  },
  "name": "caesar_cypher.ipynb"
 },
 "nbformat": 3,
 "nbformat_minor": 0
}