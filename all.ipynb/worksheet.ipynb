{
 "worksheets": [
  {
   "cells": [
    {
     "cell_type": "heading",
     "metadata": {},
     "level": 1,
     "source": [
      "Enthought Python Worksheet"
     ]
    },
    {
     "cell_type": "code",
     "metadata": {},
     "outputs": [
      {
       "output_type": "pyout",
       "text": [
        "<matplotlib.text.Text at 0x9fe06a0>"
       ],
       "metadata": {}
      },
      {
       "output_type": "display_data",
       "png": "[encoded data removed]",
       "text": [
        "<matplotlib.figure.Figure at 0x9af97f0>"
       ],
       "metadata": {}
      }
     ],
     "input": [
      "%matplotlib inline \n",
      "from bs4 import BeautifulSoup\n",
      "import matplotlib.pyplot as plt\n",
      "import numpy as np\n",
      "\n",
      "x = np.linspace(0, 10, 30)\n",
      "y = np.sin(x)\n",
      "mu, sigma = 0, 1\n",
      "z = y + np.random.normal(mu, sigma, 30) * 0.1\n",
      "\n",
      "plt.clf()\n",
      "plt.grid()\n",
      "plt.plot(x, y, 'ro-')\n",
      "plt.plot(x, z, 'b-')\n",
      "plt.legend(('Sine wave', 'Noisy wave'), loc='best', fancybox=True, shadow=True)\n",
      "plt.xlabel('X axis')\n",
      "plt.ylabel('Y axis')"
     ],
     "language": "python",
     "prompt_number": 6
    },
    {
     "cell_type": "code",
     "metadata": {},
     "outputs": [
      {
       "output_type": "stream",
       "stream": "stdout",
       "text": [
        "['year', 'day', 'month']\n[('year', 3012), ('day', 'Friday'), ('month', 2)]\n[3012, 'Friday', 2]\n3012\nFriday\n2\n"
       ]
      }
     ],
     "input": [
      "elmt = dict(day=\"Friday\", month=2, year= 3012)\n",
      "\n",
      "\n",
      "print elmt.keys()\n",
      "print elmt.items()\n",
      "print elmt.values()\n",
      "\n",
      "for i in elmt:\n",
      "    print(elmt[i])"
     ],
     "language": "python",
     "prompt_number": 4
    },
    {
     "cell_type": "code",
     "metadata": {},
     "outputs": [
      {
       "output_type": "stream",
       "stream": "stdout",
       "text": [
        "Jane Q Public 27\nJane Q Public 29\nJQP\n"
       ]
      }
     ],
     "input": [
      "class Person:\n",
      "    def __init__(self,first,middle,last,age):\n",
      "        self.first = first\n",
      "        self.middle = middle\n",
      "        self.last = last\n",
      "        self.age = age\n",
      "        \n",
      "    def __str__(self):\n",
      "        return self.first + ' ' + self.middle + ' ' + self.last + ' ' + str(self.age)\n",
      "    \n",
      "    def initials(self):\n",
      "        return self.first[0] + self.middle[0] + self.last[0]\n",
      "    \n",
      "    def changeAge(self,amount):\n",
      "        self.age += amount\n",
      "        \n",
      "        \n",
      "aPerson = Person('Jane', 'Q', 'Public', 27)\n",
      "print(aPerson)\n",
      "\n",
      "aPerson.changeAge(2)\n",
      "\n",
      "print(aPerson)\n",
      "\n",
      "print(aPerson.initials())"
     ],
     "language": "python",
     "prompt_number": 3
    },
    {
     "cell_type": "code",
     "metadata": {},
     "outputs": [
      {
       "output_type": "stream",
       "stream": "stdout",
       "text": [
        "x: 5 y: 6 width: 8 height:7\n",
        "x: 15 y: 18 width: 8 height:7\n"
       ]
      }
     ],
     "input": [
      "class Shape:\n",
      "    def __init__(self, xcor, ycor):\n",
      "        self.x = xcor\n",
      "        self.y = ycor\n",
      "        \n",
      "    def __str__(self):\n",
      "        return \"x: \" + str(self.x) + ' y: ' + str(self.y)\n",
      "    \n",
      "    def move(self, x1, y1):\n",
      "        self.x += x1\n",
      "        self.y += y1\n",
      "        \n",
      "\n",
      "class Rectangle(Shape):\n",
      "    def __init__(self, xcor, ycor, width, height):\n",
      "        Shape.__init__(self, xcor, ycor)\n",
      "        self.width = width\n",
      "        self.height = height\n",
      "        \n",
      "    def __str__(self):\n",
      "        retStr = Shape.__str__(self)\n",
      "        retStr += \" width: \" + str(self.width) + ' height:' + str(self.height)\n",
      "        return retStr\n",
      "    \n",
      "    \n",
      "rec = Rectangle(5,6,8,7)\n",
      "\n",
      "print(rec)\n",
      "\n",
      "rec.move(10,12)\n",
      "print rec"
     ],
     "language": "python",
     "prompt_number": 18
    },
    {
     "cell_type": "code",
     "metadata": {},
     "outputs": [],
     "input": [
      "food = dict(Starchy='Rice')\n",
      "food"
     ],
     "language": "python"
    },
    {
     "cell_type": "code",
     "metadata": {},
     "outputs": [],
     "input": [
      ""
     ],
     "language": "python"
    },
    {
     "cell_type": "code",
     "metadata": {},
     "outputs": [],
     "input": [
      ""
     ],
     "language": "python"
    }
   ]
  }
 ],
 "cells": [],
 "metadata": {
  "name": "",
  "signature": "sha256:f8146a21bcc9612397406abcd906180bb1cd4cd3ca2365ae7e8ac331a60416b5"
 },
 "nbformat": 3,
 "nbformat_minor": 0
}